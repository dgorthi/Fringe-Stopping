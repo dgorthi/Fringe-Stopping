{
 "cells": [
  {
   "cell_type": "code",
   "execution_count": 1,
   "metadata": {},
   "outputs": [],
   "source": [
    "import numpy as np\n",
    "from pyuvdata import UVData\n",
    "import json\n",
    "import astropy"
   ]
  },
  {
   "cell_type": "code",
   "execution_count": null,
   "metadata": {},
   "outputs": [],
   "source": [
    "filename = '/lustre/aoc/projects/hera/dgorthi/H3C_IDR2/2458764/zen.2458764.60309.HH.uvh5'\n",
    "uv = UVData()"
   ]
  },
  {
   "cell_type": "code",
   "execution_count": null,
   "metadata": {},
   "outputs": [],
   "source": [
    "uv.read(filename)"
   ]
  },
  {
   "cell_type": "code",
   "execution_count": null,
   "metadata": {},
   "outputs": [],
   "source": [
    "antpos = uv.get_ENU_antpos()\n",
    "antpos_ENU = {k:v for k,v in zip(antpos[1],antpos[0])}\n",
    "print(antpos_ENU)"
   ]
  },
  {
   "cell_type": "code",
   "execution_count": 2,
   "metadata": {},
   "outputs": [],
   "source": [
    "with open('HERA_350_ENU.json','r') as fp:\n",
    "    HERA_350_ENU = json.load(fp)"
   ]
  },
  {
   "cell_type": "code",
   "execution_count": 3,
   "metadata": {},
   "outputs": [],
   "source": [
    "# Copied from the hera_mc database\n",
    "\n",
    "cofa_lat = -30.72152612068925 * np.pi/180\n",
    "cofa_lon = 21.42830382686301 * np.pi/180\n",
    "cofa_alt = 1051.69\n",
    "\n",
    "# Get speed of light\n",
    "c = astropy.constants.c.value"
   ]
  },
  {
   "cell_type": "markdown",
   "metadata": {},
   "source": [
    "# Hour Angle Range\n",
    "\n",
    "The range of hour angles span from 8sec east of the zenith to 8sec west of zenith. There need to be 512 values between these two limits.\n",
    "\n",
    "$$\\frac{16s}{512} = 31.25 ms$$\n",
    "\n",
    "That is, the beam is re-phased every 31.25 ms"
   ]
  },
  {
   "cell_type": "code",
   "execution_count": 4,
   "metadata": {},
   "outputs": [
    {
     "name": "stdout",
     "output_type": "stream",
     "text": [
      "Radians: 0.001\tDegrees: 0.033\n"
     ]
    }
   ],
   "source": [
    "ha0 = 8 / (24 * 60 * 60) * 2 * np.pi\n",
    "print ('Radians: {0:.3f}\\tDegrees: {1:.3f}'.format(ha0, ha0*180/np.pi))"
   ]
  },
  {
   "cell_type": "code",
   "execution_count": 5,
   "metadata": {},
   "outputs": [
    {
     "name": "stdout",
     "output_type": "stream",
     "text": [
      "Radians: -0.001\tDegrees: -0.033\n"
     ]
    }
   ],
   "source": [
    "haf = -1 * 8 / (24 * 60 * 60) * 2 * np.pi\n",
    "print ('Radians: {0:.3f}\\tDegrees: {1:.3f}'.format(haf, haf*180/np.pi))"
   ]
  },
  {
   "cell_type": "code",
   "execution_count": 6,
   "metadata": {},
   "outputs": [],
   "source": [
    "ha_range = np.linspace(ha0, haf, num=512, endpoint=True)"
   ]
  },
  {
   "cell_type": "markdown",
   "metadata": {},
   "source": [
    "# Time Delay \n",
    "\n",
    "Phasing to a hour angle that is not the zenith causes a geometric time delay between two antennas. Here the reference antenna is taken to the center of the array.\n",
    "\n",
    "The time delay can be computed as follows (obtained from the undergraduate radio lab website):\n",
    "\n",
    "$$\\tau_g = \\left[\\frac{B_{ew}}{c} \\cos{\\delta}\\right] \\sin{H} + \\left[\\frac{B_{ns}}{c} \\sin{\\delta} \\cos{L}\\right] \\cos{H} - \\left[\\frac{B_{ns}}{c} \\cos{L} \\sin{\\delta}\\right]$$\n",
    "\n",
    "where $B_{ew}$ and $B_{ns}$ are the East-West and North-South components of the baseline vector, $H$ and $\\delta$ are the hour angle and declination that we are phasing to and $L$ is the terrestrial latitude of the telescope.\n",
    "\n",
    "The declination of the zenith is same as the terrestrial latitude of the telescope (nearly, say wiki).\n",
    "\n",
    "Note: The latitute should probably be the center of the baseline vector but HERA spans only 300m of the 4e7m that the circumference of the Earth is. Is is 5e-5 radians of latitudinal extent. It possibly doesn't matter?? Using center of the array for now.."
   ]
  },
  {
   "cell_type": "code",
   "execution_count": 7,
   "metadata": {},
   "outputs": [
    {
     "name": "stdout",
     "output_type": "stream",
     "text": [
      "-0.5108659298160229\n",
      "-0.5108254187068926\n",
      "0.85966039908397\n",
      "0.859684472119235\n"
     ]
    }
   ],
   "source": [
    "# Should latitute matter?? -- haven't thoroughly checked. The sine and cosine values \n",
    "# are changing in the 5th decimal place, so maybe?\n",
    "\n",
    "print(np.sin(cofa_lat))\n",
    "print(np.sin(cofa_lat + 300 * 2*np.pi/ 4e7))\n",
    "\n",
    "print(np.cos(cofa_lat))\n",
    "print(np.cos(cofa_lat + 300 * 2*np.pi/ 4e7))"
   ]
  },
  {
   "cell_type": "code",
   "execution_count": 8,
   "metadata": {},
   "outputs": [],
   "source": [
    "geometric_delay_range = {}\n",
    "\n",
    "for ant, loc in HERA_350_ENU.items():\n",
    "    geometric_delay_range[ant] = loc[0]/c * np.cos(cofa_lat) * np.sin(ha_range) + \\\n",
    "                                 loc[1]/c * np.sin(cofa_lat) * np.cos(cofa_lat) * np.cos(ha_range) - \\\n",
    "                                 loc[1]/c * np.cos(cofa_lat) * np.sin(cofa_lat)"
   ]
  },
  {
   "cell_type": "markdown",
   "metadata": {},
   "source": [
    "# Convert geometric delay into phase\n",
    "\n",
    "The phase in terms of the geometric delay is given by:\n",
    "\n",
    "$$\\phi = 2\\pi i \\nu \\tau_g$$\n",
    "\n",
    "## FPGA Implementation\n",
    "\n",
    "The FPGA design multiplies the input per-antenna phases by the channel number, for constructing the frequency dependence of the fringe stopping phases. Hence, the right input value to the FPGA is:\n",
    "\n",
    "$$\\phi = 2\\pi i \\Delta \\nu \\; \\tau_g$$\n",
    "\n",
    "so that:\n",
    "\n",
    "$$\\phi(\\nu) = \\text{chan} * 2 \\pi i \\Delta \\nu \\; \\tau_g$$\n",
    "\n",
    "The phase rotation is also implemented prior to channel downselect so all the 8192 (NOT just 6144) channels are present at this point.\n",
    "\n",
    "## CORDIC 6.0\n",
    "\n",
    "The block that finally implements the rotation requires the input in angle $\\phi(\\nu) \\in [-\\pi,\\pi]$"
   ]
  },
  {
   "cell_type": "code",
   "execution_count": 9,
   "metadata": {},
   "outputs": [
    {
     "data": {
      "text/plain": [
       "True"
      ]
     },
     "execution_count": 9,
     "metadata": {},
     "output_type": "execute_result"
    }
   ],
   "source": [
    "chans = np.arange(8192)\n",
    "nu = chans*(250e6/8192)\n",
    "freqs = np.linspace(0,250,num=8192,endpoint=False)*1e6\n",
    "np.all(np.isclose(freqs, nu))"
   ]
  },
  {
   "cell_type": "code",
   "execution_count": 10,
   "metadata": {},
   "outputs": [],
   "source": [
    "# With 1536 channels finally\n",
    "channel_width = 122070.3125\n",
    "\n",
    "# With 6144 channels\n",
    "channel_width = 250e6/8192."
   ]
  },
  {
   "cell_type": "code",
   "execution_count": 11,
   "metadata": {},
   "outputs": [],
   "source": [
    "# The FPGA design multiplies this\n",
    "# input phase by channel number to \n",
    "# generate the rotation phases as\n",
    "# a function of frequency\n",
    "\n",
    "fringe_phase = {}\n",
    "\n",
    "for ant, loc in HERA_350_ENU.items():\n",
    "    fringe_phase[ant] = (2*np.pi*geometric_delay_range[ant]*channel_width).tolist()"
   ]
  },
  {
   "cell_type": "code",
   "execution_count": 14,
   "metadata": {
    "scrolled": true
   },
   "outputs": [
    {
     "data": {
      "text/plain": [
       "array([ 3.58213773e-03,  3.56812179e-03,  3.55410581e-03,  3.54008980e-03,\n",
       "        3.52607376e-03,  3.51205769e-03,  3.49804158e-03,  3.48402544e-03,\n",
       "        3.47000927e-03,  3.45599306e-03,  3.44197682e-03,  3.42796055e-03,\n",
       "        3.41394425e-03,  3.39992791e-03,  3.38591154e-03,  3.37189514e-03,\n",
       "        3.35787871e-03,  3.34386224e-03,  3.32984574e-03,  3.31582921e-03,\n",
       "        3.30181264e-03,  3.28779604e-03,  3.27377941e-03,  3.25976275e-03,\n",
       "        3.24574605e-03,  3.23172932e-03,  3.21771256e-03,  3.20369577e-03,\n",
       "        3.18967894e-03,  3.17566208e-03,  3.16164519e-03,  3.14762826e-03,\n",
       "        3.13361130e-03,  3.11959431e-03,  3.10557729e-03,  3.09156023e-03,\n",
       "        3.07754314e-03,  3.06352602e-03,  3.04950887e-03,  3.03549168e-03,\n",
       "        3.02147446e-03,  3.00745721e-03,  2.99343992e-03,  2.97942260e-03,\n",
       "        2.96540525e-03,  2.95138787e-03,  2.93737045e-03,  2.92335300e-03,\n",
       "        2.90933552e-03,  2.89531801e-03,  2.88130046e-03,  2.86728288e-03,\n",
       "        2.85326526e-03,  2.83924762e-03,  2.82522994e-03,  2.81121223e-03,\n",
       "        2.79719449e-03,  2.78317671e-03,  2.76915890e-03,  2.75514106e-03,\n",
       "        2.74112318e-03,  2.72710527e-03,  2.71308733e-03,  2.69906936e-03,\n",
       "        2.68505136e-03,  2.67103332e-03,  2.65701525e-03,  2.64299714e-03,\n",
       "        2.62897901e-03,  2.61496084e-03,  2.60094263e-03,  2.58692440e-03,\n",
       "        2.57290613e-03,  2.55888783e-03,  2.54486950e-03,  2.53085113e-03,\n",
       "        2.51683273e-03,  2.50281430e-03,  2.48879584e-03,  2.47477734e-03,\n",
       "        2.46075881e-03,  2.44674025e-03,  2.43272165e-03,  2.41870303e-03,\n",
       "        2.40468437e-03,  2.39066567e-03,  2.37664695e-03,  2.36262819e-03,\n",
       "        2.34860940e-03,  2.33459057e-03,  2.32057172e-03,  2.30655283e-03,\n",
       "        2.29253390e-03,  2.27851495e-03,  2.26449596e-03,  2.25047694e-03,\n",
       "        2.23645789e-03,  2.22243880e-03,  2.20841968e-03,  2.19440053e-03,\n",
       "        2.18038135e-03,  2.16636213e-03,  2.15234288e-03,  2.13832360e-03,\n",
       "        2.12430428e-03,  2.11028494e-03,  2.09626556e-03,  2.08224614e-03,\n",
       "        2.06822670e-03,  2.05420722e-03,  2.04018771e-03,  2.02616816e-03,\n",
       "        2.01214859e-03,  1.99812898e-03,  1.98410933e-03,  1.97008966e-03,\n",
       "        1.95606995e-03,  1.94205021e-03,  1.92803044e-03,  1.91401063e-03,\n",
       "        1.89999079e-03,  1.88597092e-03,  1.87195102e-03,  1.85793108e-03,\n",
       "        1.84391111e-03,  1.82989111e-03,  1.81587107e-03,  1.80185100e-03,\n",
       "        1.78783090e-03,  1.77381077e-03,  1.75979060e-03,  1.74577041e-03,\n",
       "        1.73175017e-03,  1.71772991e-03,  1.70370961e-03,  1.68968928e-03,\n",
       "        1.67566892e-03,  1.66164853e-03,  1.64762810e-03,  1.63360764e-03,\n",
       "        1.61958714e-03,  1.60556662e-03,  1.59154606e-03,  1.57752547e-03,\n",
       "        1.56350484e-03,  1.54948419e-03,  1.53546350e-03,  1.52144278e-03,\n",
       "        1.50742202e-03,  1.49340123e-03,  1.47938041e-03,  1.46535956e-03,\n",
       "        1.45133867e-03,  1.43731775e-03,  1.42329680e-03,  1.40927582e-03,\n",
       "        1.39525480e-03,  1.38123375e-03,  1.36721267e-03,  1.35319155e-03,\n",
       "        1.33917041e-03,  1.32514923e-03,  1.31112801e-03,  1.29710677e-03,\n",
       "        1.28308549e-03,  1.26906418e-03,  1.25504283e-03,  1.24102145e-03,\n",
       "        1.22700005e-03,  1.21297860e-03,  1.19895713e-03,  1.18493562e-03,\n",
       "        1.17091408e-03,  1.15689251e-03,  1.14287090e-03,  1.12884926e-03,\n",
       "        1.11482759e-03,  1.10080589e-03,  1.08678415e-03,  1.07276238e-03,\n",
       "        1.05874058e-03,  1.04471874e-03,  1.03069687e-03,  1.01667497e-03,\n",
       "        1.00265304e-03,  9.88631074e-04,  9.74609076e-04,  9.60587044e-04,\n",
       "        9.46564980e-04,  9.32542883e-04,  9.18520754e-04,  9.04498591e-04,\n",
       "        8.90476396e-04,  8.76454169e-04,  8.62431908e-04,  8.48409615e-04,\n",
       "        8.34387289e-04,  8.20364930e-04,  8.06342539e-04,  7.92320115e-04,\n",
       "        7.78297658e-04,  7.64275168e-04,  7.50252646e-04,  7.36230091e-04,\n",
       "        7.22207503e-04,  7.08184883e-04,  6.94162230e-04,  6.80139544e-04,\n",
       "        6.66116825e-04,  6.52094074e-04,  6.38071290e-04,  6.24048473e-04,\n",
       "        6.10025624e-04,  5.96002741e-04,  5.81979827e-04,  5.67956879e-04,\n",
       "        5.53933898e-04,  5.39910885e-04,  5.25887840e-04,  5.11864761e-04,\n",
       "        4.97841650e-04,  4.83818506e-04,  4.69795329e-04,  4.55772119e-04,\n",
       "        4.41748877e-04,  4.27725602e-04,  4.13702295e-04,  3.99678954e-04,\n",
       "        3.85655581e-04,  3.71632176e-04,  3.57608737e-04,  3.43585266e-04,\n",
       "        3.29561762e-04,  3.15538225e-04,  3.01514656e-04,  2.87491054e-04,\n",
       "        2.73467419e-04,  2.59443751e-04,  2.45420051e-04,  2.31396318e-04,\n",
       "        2.17372553e-04,  2.03348754e-04,  1.89324923e-04,  1.75301059e-04,\n",
       "        1.61277162e-04,  1.47253233e-04,  1.33229271e-04,  1.19205276e-04,\n",
       "        1.05181249e-04,  9.11571888e-05,  7.71330959e-05,  6.31089702e-05,\n",
       "        4.90848119e-05,  3.50606208e-05,  2.10363970e-05,  7.01214052e-06,\n",
       "       -7.01214870e-06, -2.10364706e-05, -3.50608253e-05, -4.90852127e-05,\n",
       "       -6.31096328e-05, -7.71340856e-05, -9.11585712e-05, -1.05183089e-04,\n",
       "       -1.19207640e-04, -1.33232224e-04, -1.47256840e-04, -1.61281490e-04,\n",
       "       -1.75306171e-04, -1.89330886e-04, -2.03355633e-04, -2.17380413e-04,\n",
       "       -2.31405226e-04, -2.45430072e-04, -2.59454950e-04, -2.73479861e-04,\n",
       "       -2.87504804e-04, -3.01529780e-04, -3.15554789e-04, -3.29579831e-04,\n",
       "       -3.43604906e-04, -3.57630013e-04, -3.71655153e-04, -3.85680325e-04,\n",
       "       -3.99705531e-04, -4.13730769e-04, -4.27756040e-04, -4.41781343e-04,\n",
       "       -4.55806679e-04, -4.69832048e-04, -4.83857450e-04, -4.97882884e-04,\n",
       "       -5.11908351e-04, -5.25933851e-04, -5.39959384e-04, -5.53984949e-04,\n",
       "       -5.68010547e-04, -5.82036177e-04, -5.96061841e-04, -6.10087537e-04,\n",
       "       -6.24113266e-04, -6.38139027e-04, -6.52164821e-04, -6.66190648e-04,\n",
       "       -6.80216508e-04, -6.94242400e-04, -7.08268326e-04, -7.22294283e-04,\n",
       "       -7.36320274e-04, -7.50346297e-04, -7.64372353e-04, -7.78398442e-04,\n",
       "       -7.92424563e-04, -8.06450717e-04, -8.20476904e-04, -8.34503124e-04,\n",
       "       -8.48529376e-04, -8.62555661e-04, -8.76581979e-04, -8.90608329e-04,\n",
       "       -9.04634712e-04, -9.18661128e-04, -9.32687576e-04, -9.46714058e-04,\n",
       "       -9.60740572e-04, -9.74767118e-04, -9.88793698e-04, -1.00282031e-03,\n",
       "       -1.01684695e-03, -1.03087363e-03, -1.04490034e-03, -1.05892709e-03,\n",
       "       -1.07295386e-03, -1.08698067e-03, -1.10100751e-03, -1.11503438e-03,\n",
       "       -1.12906129e-03, -1.14308823e-03, -1.15711520e-03, -1.17114221e-03,\n",
       "       -1.18516924e-03, -1.19919631e-03, -1.21322342e-03, -1.22725055e-03,\n",
       "       -1.24127772e-03, -1.25530492e-03, -1.26933216e-03, -1.28335942e-03,\n",
       "       -1.29738672e-03, -1.31141405e-03, -1.32544142e-03, -1.33946881e-03,\n",
       "       -1.35349624e-03, -1.36752371e-03, -1.38155120e-03, -1.39557873e-03,\n",
       "       -1.40960629e-03, -1.42363389e-03, -1.43766151e-03, -1.45168917e-03,\n",
       "       -1.46571686e-03, -1.47974459e-03, -1.49377234e-03, -1.50780013e-03,\n",
       "       -1.52182796e-03, -1.53585581e-03, -1.54988370e-03, -1.56391162e-03,\n",
       "       -1.57793957e-03, -1.59196756e-03, -1.60599558e-03, -1.62002363e-03,\n",
       "       -1.63405171e-03, -1.64807983e-03, -1.66210798e-03, -1.67613616e-03,\n",
       "       -1.69016438e-03, -1.70419262e-03, -1.71822090e-03, -1.73224922e-03,\n",
       "       -1.74627756e-03, -1.76030594e-03, -1.77433435e-03, -1.78836280e-03,\n",
       "       -1.80239127e-03, -1.81641978e-03, -1.83044833e-03, -1.84447690e-03,\n",
       "       -1.85850551e-03, -1.87253415e-03, -1.88656282e-03, -1.90059153e-03,\n",
       "       -1.91462027e-03, -1.92864904e-03, -1.94267784e-03, -1.95670668e-03,\n",
       "       -1.97073555e-03, -1.98476445e-03, -1.99879338e-03, -2.01282235e-03,\n",
       "       -2.02685135e-03, -2.04088038e-03, -2.05490945e-03, -2.06893855e-03,\n",
       "       -2.08296768e-03, -2.09699684e-03, -2.11102604e-03, -2.12505527e-03,\n",
       "       -2.13908453e-03, -2.15311382e-03, -2.16714315e-03, -2.18117251e-03,\n",
       "       -2.19520190e-03, -2.20923133e-03, -2.22326079e-03, -2.23729028e-03,\n",
       "       -2.25131980e-03, -2.26534936e-03, -2.27937894e-03, -2.29340857e-03,\n",
       "       -2.30743822e-03, -2.32146791e-03, -2.33549763e-03, -2.34952738e-03,\n",
       "       -2.36355716e-03, -2.37758698e-03, -2.39161683e-03, -2.40564672e-03,\n",
       "       -2.41967663e-03, -2.43370658e-03, -2.44773656e-03, -2.46176658e-03,\n",
       "       -2.47579662e-03, -2.48982670e-03, -2.50385681e-03, -2.51788696e-03,\n",
       "       -2.53191714e-03, -2.54594735e-03, -2.55997759e-03, -2.57400786e-03,\n",
       "       -2.58803817e-03, -2.60206851e-03, -2.61609889e-03, -2.63012929e-03,\n",
       "       -2.64415973e-03, -2.65819021e-03, -2.67222071e-03, -2.68625125e-03,\n",
       "       -2.70028182e-03, -2.71431242e-03, -2.72834306e-03, -2.74237372e-03,\n",
       "       -2.75640442e-03, -2.77043516e-03, -2.78446592e-03, -2.79849672e-03,\n",
       "       -2.81252755e-03, -2.82655842e-03, -2.84058932e-03, -2.85462025e-03,\n",
       "       -2.86865121e-03, -2.88268220e-03, -2.89671323e-03, -2.91074429e-03,\n",
       "       -2.92477539e-03, -2.93880651e-03, -2.95283767e-03, -2.96686886e-03,\n",
       "       -2.98090009e-03, -2.99493134e-03, -3.00896263e-03, -3.02299395e-03,\n",
       "       -3.03702531e-03, -3.05105670e-03, -3.06508812e-03, -3.07911957e-03,\n",
       "       -3.09315106e-03, -3.10718257e-03, -3.12121412e-03, -3.13524571e-03,\n",
       "       -3.14927733e-03, -3.16330897e-03, -3.17734066e-03, -3.19137237e-03,\n",
       "       -3.20540412e-03, -3.21943590e-03, -3.23346771e-03, -3.24749956e-03,\n",
       "       -3.26153143e-03, -3.27556335e-03, -3.28959529e-03, -3.30362727e-03,\n",
       "       -3.31765927e-03, -3.33169132e-03, -3.34572339e-03, -3.35975550e-03,\n",
       "       -3.37378764e-03, -3.38781981e-03, -3.40185201e-03, -3.41588425e-03,\n",
       "       -3.42991652e-03, -3.44394883e-03, -3.45798116e-03, -3.47201353e-03,\n",
       "       -3.48604593e-03, -3.50007837e-03, -3.51411083e-03, -3.52814333e-03,\n",
       "       -3.54217587e-03, -3.55620843e-03, -3.57024103e-03, -3.58427366e-03])"
      ]
     },
     "execution_count": 14,
     "metadata": {},
     "output_type": "execute_result"
    }
   ],
   "source": [
    "np.asarray(fringe_phase[ant]) * 180/np.pi"
   ]
  },
  {
   "cell_type": "code",
   "execution_count": 15,
   "metadata": {},
   "outputs": [],
   "source": [
    "with open('fringe_rotation_phases.json','w') as fp:\n",
    "    json.dump(fringe_phase, fp)"
   ]
  }
 ],
 "metadata": {
  "kernelspec": {
   "display_name": "hera",
   "language": "python",
   "name": "hera"
  },
  "language_info": {
   "codemirror_mode": {
    "name": "ipython",
    "version": 3
   },
   "file_extension": ".py",
   "mimetype": "text/x-python",
   "name": "python",
   "nbconvert_exporter": "python",
   "pygments_lexer": "ipython3",
   "version": "3.8.2"
  }
 },
 "nbformat": 4,
 "nbformat_minor": 4
}
